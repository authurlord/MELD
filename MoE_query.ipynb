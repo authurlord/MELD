{
 "cells": [
  {
   "cell_type": "code",
   "execution_count": 2,
   "metadata": {},
   "outputs": [
    {
     "name": "stdout",
     "output_type": "stream",
     "text": [
      "The parameters of colbert_linear and sparse linear is new initialize. Make sure the model is loaded for training, not inferencing\n",
      "----------using 8*GPUs----------\n"
     ]
    }
   ],
   "source": [
    "from FlagEmbedding import BGEM3FlagModel\n",
    "\n",
    "model = BGEM3FlagModel('/MoE-Example/Router/Router_CT',  \n",
    "                       use_fp16=True) # Setting use_fp16 to True speeds up computation with a slight performance degradation"
   ]
  },
  {
   "cell_type": "code",
   "execution_count": 61,
   "metadata": {},
   "outputs": [],
   "source": [
    "MoE_list_update.to_csv('Router/MoE_list_update_top_2.csv')"
   ]
  },
  {
   "cell_type": "code",
   "execution_count": 1,
   "metadata": {},
   "outputs": [],
   "source": [
    "import pandas as pd\n",
    "MoE_list_update = pd.read_csv('Router/MoE_list_update_top_2.csv',index_col=0)"
   ]
  },
  {
   "cell_type": "code",
   "execution_count": 2,
   "metadata": {},
   "outputs": [
    {
     "data": {
      "text/html": [
       "<div>\n",
       "<style scoped>\n",
       "    .dataframe tbody tr th:only-of-type {\n",
       "        vertical-align: middle;\n",
       "    }\n",
       "\n",
       "    .dataframe tbody tr th {\n",
       "        vertical-align: top;\n",
       "    }\n",
       "\n",
       "    .dataframe thead th {\n",
       "        text-align: right;\n",
       "    }\n",
       "</style>\n",
       "<table border=\"1\" class=\"dataframe\">\n",
       "  <thead>\n",
       "    <tr style=\"text-align: right;\">\n",
       "      <th></th>\n",
       "      <th>pos</th>\n",
       "      <th>neg</th>\n",
       "      <th>expert</th>\n",
       "      <th>query</th>\n",
       "      <th>expert_predict</th>\n",
       "      <th>domain</th>\n",
       "      <th>cross-dataset</th>\n",
       "      <th>cross-task</th>\n",
       "    </tr>\n",
       "  </thead>\n",
       "  <tbody>\n",
       "    <tr>\n",
       "      <th>0</th>\n",
       "      <td>['Mistral|amazon_google-MoE-CT', 'Mistral|semi...</td>\n",
       "      <td>[]</td>\n",
       "      <td>Mistral|amazon_google-MoE-CT</td>\n",
       "      <td>You are an expert in detecting if two text des...</td>\n",
       "      <td>['Mistral|amazon_google-MoE-CT', 'Mistral|semi...</td>\n",
       "      <td>Mistral|amazon_google-MoE-CT</td>\n",
       "      <td>['Mistral|semi_text_w-MoE-CT', 'Mistral|SimTab...</td>\n",
       "      <td>['Mistral|SimTab-MoE-CT', 'Mistral|walmart-MoE...</td>\n",
       "    </tr>\n",
       "    <tr>\n",
       "      <th>1</th>\n",
       "      <td>['Mistral|amazon_google-MoE-CT', 'Mistral|semi...</td>\n",
       "      <td>[]</td>\n",
       "      <td>Mistral|amazon_google-MoE-CT</td>\n",
       "      <td>You are an expert in detecting if two text des...</td>\n",
       "      <td>['Mistral|amazon_google-MoE-CT', 'Mistral|SimT...</td>\n",
       "      <td>Mistral|amazon_google-MoE-CT</td>\n",
       "      <td>['Mistral|SimTab-MoE-CT', 'Mistral|semi_text_w...</td>\n",
       "      <td>['Mistral|SimTab-MoE-CT', 'Mistral|walmart-MoE...</td>\n",
       "    </tr>\n",
       "    <tr>\n",
       "      <th>2</th>\n",
       "      <td>['Mistral|amazon_google-MoE-CT', 'Mistral|semi...</td>\n",
       "      <td>[]</td>\n",
       "      <td>Mistral|amazon_google-MoE-CT</td>\n",
       "      <td>You are an expert in detecting if two text des...</td>\n",
       "      <td>['Mistral|amazon_google-MoE-CT', 'Mistral|walm...</td>\n",
       "      <td>Mistral|amazon_google-MoE-CT</td>\n",
       "      <td>['Mistral|walmart-MoE-CT', 'Mistral|semi_text_...</td>\n",
       "      <td>['Mistral|walmart-MoE-CT', 'Mistral|SimTab-MoE...</td>\n",
       "    </tr>\n",
       "    <tr>\n",
       "      <th>3</th>\n",
       "      <td>['Mistral|amazon_google-MoE-CT', 'Mistral|semi...</td>\n",
       "      <td>[]</td>\n",
       "      <td>Mistral|amazon_google-MoE-CT</td>\n",
       "      <td>You are an expert in detecting if two text des...</td>\n",
       "      <td>['Mistral|amazon_google-MoE-CT', 'Mistral|semi...</td>\n",
       "      <td>Mistral|amazon_google-MoE-CT</td>\n",
       "      <td>['Mistral|semi_text_w-MoE-CT', 'Mistral|SimTab...</td>\n",
       "      <td>['Mistral|SimTab-MoE-CT', 'Mistral|walmart-MoE...</td>\n",
       "    </tr>\n",
       "    <tr>\n",
       "      <th>4</th>\n",
       "      <td>['Mistral|amazon_google-MoE-CT', 'Mistral|semi...</td>\n",
       "      <td>[]</td>\n",
       "      <td>Mistral|amazon_google-MoE-CT</td>\n",
       "      <td>You are an expert in detecting if two text des...</td>\n",
       "      <td>['Mistral|amazon_google-MoE-CT', 'Mistral|semi...</td>\n",
       "      <td>Mistral|amazon_google-MoE-CT</td>\n",
       "      <td>['Mistral|semi_text_w-MoE-CT', 'Mistral|SimTab...</td>\n",
       "      <td>['Mistral|SimTab-MoE-CT', 'Mistral|walmart-MoE...</td>\n",
       "    </tr>\n",
       "    <tr>\n",
       "      <th>...</th>\n",
       "      <td>...</td>\n",
       "      <td>...</td>\n",
       "      <td>...</td>\n",
       "      <td>...</td>\n",
       "      <td>...</td>\n",
       "      <td>...</td>\n",
       "      <td>...</td>\n",
       "      <td>...</td>\n",
       "    </tr>\n",
       "    <tr>\n",
       "      <th>29582</th>\n",
       "      <td>['Mistral|semi_text_w-MoE-CT', 'Mistral|webtab...</td>\n",
       "      <td>['Mistral|amazon_google-MoE-CT', 'Mistral|rest...</td>\n",
       "      <td>Mistral|amazon_google-MoE-CT</td>\n",
       "      <td>You are an expert in relation extraction from ...</td>\n",
       "      <td>['Mistral|SimTab-MoE-CT', 'Mistral|webtable-Mo...</td>\n",
       "      <td>Mistral|SimTab-MoE-CT</td>\n",
       "      <td>['Mistral|webtable-MoE-CT', 'Mistral|restauran...</td>\n",
       "      <td>['Mistral|restaurant-MoE-CT', 'Mistral|semi_te...</td>\n",
       "    </tr>\n",
       "    <tr>\n",
       "      <th>29583</th>\n",
       "      <td>['Mistral|semi_text_w-MoE-CT', 'Mistral|webtab...</td>\n",
       "      <td>['Mistral|amazon_google-MoE-CT', 'Mistral|SimT...</td>\n",
       "      <td>Mistral|amazon_google-MoE-CT</td>\n",
       "      <td>You are an expert in relation extraction from ...</td>\n",
       "      <td>['Mistral|SimTab-MoE-CT', 'Mistral|webtable-Mo...</td>\n",
       "      <td>Mistral|SimTab-MoE-CT</td>\n",
       "      <td>['Mistral|webtable-MoE-CT', 'Mistral|restauran...</td>\n",
       "      <td>['Mistral|restaurant-MoE-CT', 'Mistral|semi_te...</td>\n",
       "    </tr>\n",
       "    <tr>\n",
       "      <th>29584</th>\n",
       "      <td>['Mistral|amazon_google-MoE-CT', 'Mistral|webt...</td>\n",
       "      <td>['Mistral|semi_text_w-MoE-CT', 'Mistral|restau...</td>\n",
       "      <td>Mistral|amazon_google-MoE-CT</td>\n",
       "      <td>You are an expert in relation extraction from ...</td>\n",
       "      <td>['Mistral|SimTab-MoE-CT', 'Mistral|webtable-Mo...</td>\n",
       "      <td>Mistral|SimTab-MoE-CT</td>\n",
       "      <td>['Mistral|webtable-MoE-CT', 'Mistral|restauran...</td>\n",
       "      <td>['Mistral|restaurant-MoE-CT', 'Mistral|semi_te...</td>\n",
       "    </tr>\n",
       "    <tr>\n",
       "      <th>29585</th>\n",
       "      <td>['Mistral|webtable-MoE-CT']</td>\n",
       "      <td>['Mistral|amazon_google-MoE-CT', 'Mistral|semi...</td>\n",
       "      <td>Mistral|amazon_google-MoE-CT</td>\n",
       "      <td>You are an expert in relation extraction from ...</td>\n",
       "      <td>['Mistral|SimTab-MoE-CT', 'Mistral|webtable-Mo...</td>\n",
       "      <td>Mistral|SimTab-MoE-CT</td>\n",
       "      <td>['Mistral|webtable-MoE-CT', 'Mistral|restauran...</td>\n",
       "      <td>['Mistral|restaurant-MoE-CT', 'Mistral|semi_te...</td>\n",
       "    </tr>\n",
       "    <tr>\n",
       "      <th>29586</th>\n",
       "      <td>['Mistral|amazon_google-MoE-CT', 'Mistral|semi...</td>\n",
       "      <td>['Mistral|restaurant-MoE-CT', 'Mistral|walmart...</td>\n",
       "      <td>Mistral|amazon_google-MoE-CT</td>\n",
       "      <td>You are an expert in relation extraction from ...</td>\n",
       "      <td>['Mistral|SimTab-MoE-CT', 'Mistral|webtable-Mo...</td>\n",
       "      <td>Mistral|SimTab-MoE-CT</td>\n",
       "      <td>['Mistral|webtable-MoE-CT', 'Mistral|semi_text...</td>\n",
       "      <td>['Mistral|semi_text_w-MoE-CT', 'Mistral|restau...</td>\n",
       "    </tr>\n",
       "  </tbody>\n",
       "</table>\n",
       "<p>29587 rows × 8 columns</p>\n",
       "</div>"
      ],
      "text/plain": [
       "                                                     pos  \\\n",
       "0      ['Mistral|amazon_google-MoE-CT', 'Mistral|semi...   \n",
       "1      ['Mistral|amazon_google-MoE-CT', 'Mistral|semi...   \n",
       "2      ['Mistral|amazon_google-MoE-CT', 'Mistral|semi...   \n",
       "3      ['Mistral|amazon_google-MoE-CT', 'Mistral|semi...   \n",
       "4      ['Mistral|amazon_google-MoE-CT', 'Mistral|semi...   \n",
       "...                                                  ...   \n",
       "29582  ['Mistral|semi_text_w-MoE-CT', 'Mistral|webtab...   \n",
       "29583  ['Mistral|semi_text_w-MoE-CT', 'Mistral|webtab...   \n",
       "29584  ['Mistral|amazon_google-MoE-CT', 'Mistral|webt...   \n",
       "29585                        ['Mistral|webtable-MoE-CT']   \n",
       "29586  ['Mistral|amazon_google-MoE-CT', 'Mistral|semi...   \n",
       "\n",
       "                                                     neg  \\\n",
       "0                                                     []   \n",
       "1                                                     []   \n",
       "2                                                     []   \n",
       "3                                                     []   \n",
       "4                                                     []   \n",
       "...                                                  ...   \n",
       "29582  ['Mistral|amazon_google-MoE-CT', 'Mistral|rest...   \n",
       "29583  ['Mistral|amazon_google-MoE-CT', 'Mistral|SimT...   \n",
       "29584  ['Mistral|semi_text_w-MoE-CT', 'Mistral|restau...   \n",
       "29585  ['Mistral|amazon_google-MoE-CT', 'Mistral|semi...   \n",
       "29586  ['Mistral|restaurant-MoE-CT', 'Mistral|walmart...   \n",
       "\n",
       "                             expert  \\\n",
       "0      Mistral|amazon_google-MoE-CT   \n",
       "1      Mistral|amazon_google-MoE-CT   \n",
       "2      Mistral|amazon_google-MoE-CT   \n",
       "3      Mistral|amazon_google-MoE-CT   \n",
       "4      Mistral|amazon_google-MoE-CT   \n",
       "...                             ...   \n",
       "29582  Mistral|amazon_google-MoE-CT   \n",
       "29583  Mistral|amazon_google-MoE-CT   \n",
       "29584  Mistral|amazon_google-MoE-CT   \n",
       "29585  Mistral|amazon_google-MoE-CT   \n",
       "29586  Mistral|amazon_google-MoE-CT   \n",
       "\n",
       "                                                   query  \\\n",
       "0      You are an expert in detecting if two text des...   \n",
       "1      You are an expert in detecting if two text des...   \n",
       "2      You are an expert in detecting if two text des...   \n",
       "3      You are an expert in detecting if two text des...   \n",
       "4      You are an expert in detecting if two text des...   \n",
       "...                                                  ...   \n",
       "29582  You are an expert in relation extraction from ...   \n",
       "29583  You are an expert in relation extraction from ...   \n",
       "29584  You are an expert in relation extraction from ...   \n",
       "29585  You are an expert in relation extraction from ...   \n",
       "29586  You are an expert in relation extraction from ...   \n",
       "\n",
       "                                          expert_predict  \\\n",
       "0      ['Mistral|amazon_google-MoE-CT', 'Mistral|semi...   \n",
       "1      ['Mistral|amazon_google-MoE-CT', 'Mistral|SimT...   \n",
       "2      ['Mistral|amazon_google-MoE-CT', 'Mistral|walm...   \n",
       "3      ['Mistral|amazon_google-MoE-CT', 'Mistral|semi...   \n",
       "4      ['Mistral|amazon_google-MoE-CT', 'Mistral|semi...   \n",
       "...                                                  ...   \n",
       "29582  ['Mistral|SimTab-MoE-CT', 'Mistral|webtable-Mo...   \n",
       "29583  ['Mistral|SimTab-MoE-CT', 'Mistral|webtable-Mo...   \n",
       "29584  ['Mistral|SimTab-MoE-CT', 'Mistral|webtable-Mo...   \n",
       "29585  ['Mistral|SimTab-MoE-CT', 'Mistral|webtable-Mo...   \n",
       "29586  ['Mistral|SimTab-MoE-CT', 'Mistral|webtable-Mo...   \n",
       "\n",
       "                             domain  \\\n",
       "0      Mistral|amazon_google-MoE-CT   \n",
       "1      Mistral|amazon_google-MoE-CT   \n",
       "2      Mistral|amazon_google-MoE-CT   \n",
       "3      Mistral|amazon_google-MoE-CT   \n",
       "4      Mistral|amazon_google-MoE-CT   \n",
       "...                             ...   \n",
       "29582         Mistral|SimTab-MoE-CT   \n",
       "29583         Mistral|SimTab-MoE-CT   \n",
       "29584         Mistral|SimTab-MoE-CT   \n",
       "29585         Mistral|SimTab-MoE-CT   \n",
       "29586         Mistral|SimTab-MoE-CT   \n",
       "\n",
       "                                           cross-dataset  \\\n",
       "0      ['Mistral|semi_text_w-MoE-CT', 'Mistral|SimTab...   \n",
       "1      ['Mistral|SimTab-MoE-CT', 'Mistral|semi_text_w...   \n",
       "2      ['Mistral|walmart-MoE-CT', 'Mistral|semi_text_...   \n",
       "3      ['Mistral|semi_text_w-MoE-CT', 'Mistral|SimTab...   \n",
       "4      ['Mistral|semi_text_w-MoE-CT', 'Mistral|SimTab...   \n",
       "...                                                  ...   \n",
       "29582  ['Mistral|webtable-MoE-CT', 'Mistral|restauran...   \n",
       "29583  ['Mistral|webtable-MoE-CT', 'Mistral|restauran...   \n",
       "29584  ['Mistral|webtable-MoE-CT', 'Mistral|restauran...   \n",
       "29585  ['Mistral|webtable-MoE-CT', 'Mistral|restauran...   \n",
       "29586  ['Mistral|webtable-MoE-CT', 'Mistral|semi_text...   \n",
       "\n",
       "                                              cross-task  \n",
       "0      ['Mistral|SimTab-MoE-CT', 'Mistral|walmart-MoE...  \n",
       "1      ['Mistral|SimTab-MoE-CT', 'Mistral|walmart-MoE...  \n",
       "2      ['Mistral|walmart-MoE-CT', 'Mistral|SimTab-MoE...  \n",
       "3      ['Mistral|SimTab-MoE-CT', 'Mistral|walmart-MoE...  \n",
       "4      ['Mistral|SimTab-MoE-CT', 'Mistral|walmart-MoE...  \n",
       "...                                                  ...  \n",
       "29582  ['Mistral|restaurant-MoE-CT', 'Mistral|semi_te...  \n",
       "29583  ['Mistral|restaurant-MoE-CT', 'Mistral|semi_te...  \n",
       "29584  ['Mistral|restaurant-MoE-CT', 'Mistral|semi_te...  \n",
       "29585  ['Mistral|restaurant-MoE-CT', 'Mistral|semi_te...  \n",
       "29586  ['Mistral|semi_text_w-MoE-CT', 'Mistral|restau...  \n",
       "\n",
       "[29587 rows x 8 columns]"
      ]
     },
     "execution_count": 2,
     "metadata": {},
     "output_type": "execute_result"
    }
   ],
   "source": [
    "MoE_list_update"
   ]
  },
  {
   "cell_type": "code",
   "execution_count": 8,
   "metadata": {},
   "outputs": [
    {
     "data": {
      "text/plain": [
       "array(['Mistral|amazon_google-MoE-CT', 'Mistral|semi_text_w-MoE-CT',\n",
       "       'Mistral|walmart-MoE-CT', 'Mistral|restaurant-MoE-CT',\n",
       "       'Mistral|webtable-MoE-CT', 'Mistral|SimTab-MoE-CT'], dtype=object)"
      ]
     },
     "execution_count": 8,
     "metadata": {},
     "output_type": "execute_result"
    }
   ],
   "source": [
    "domain"
   ]
  },
  {
   "cell_type": "code",
   "execution_count": 5,
   "metadata": {},
   "outputs": [],
   "source": [
    "import os \n",
    "import numpy as np\n",
    "import pandas as pd \n",
    "from tqdm import tqdm\n",
    "import pandas as pd\n",
    "tqdm.pandas(desc='pandas bar')\n",
    "# from pandarallel import pandarallel\n",
    "import random\n",
    "from tqdm.notebook import tqdm\n",
    "import copy\n",
    "import logging\n",
    "# pandarallel.initialize(progress_bar=True)\n",
    "\n",
    "import argparse\n",
    "from types import SimpleNamespace\n",
    "from FlagEmbedding import FlagModel"
   ]
  },
  {
   "cell_type": "code",
   "execution_count": 4,
   "metadata": {},
   "outputs": [],
   "source": [
    "import os\n",
    "\n",
    "def list_csv_files_and_parents(folder_path):\n",
    "    \"\"\"\n",
    "    List all CSV files in the specified folder and their parent folder names.\n",
    "\n",
    "    Parameters:\n",
    "    folder_path (str): The path to the directory.\n",
    "\n",
    "    Returns:\n",
    "    list: A list where each element is a list containing the parent folder name and CSV file path.\n",
    "    \"\"\"\n",
    "    csv_files_info = []\n",
    "\n",
    "    # 遍历指定路径内的所有文件和文件夹\n",
    "    for root, dirs, files in os.walk(folder_path):\n",
    "        for file in files:\n",
    "            if file.endswith(\".csv\"):\n",
    "                # 获取CSV文件的路径\n",
    "                csv_file_path = os.path.join(root, file)\n",
    "                # 获取CSV文件所在一级父文件夹名字\n",
    "                parent_folder_name = os.path.basename(root)\n",
    "                # 将父文件夹名字和CSV文件路径添加到列表中\n",
    "                csv_files_info.append([parent_folder_name, csv_file_path])\n",
    "\n",
    "    return csv_files_info\n",
    "\n",
    "# 示例路径\n",
    "folder_path = \"your_folder_path\"\n",
    "\n",
    "# 调用函数\n",
    "csv_files_info_list = list_csv_files_and_parents('inference_MoE')\n",
    "# print(csv_files_info_list)\n"
   ]
  },
  {
   "cell_type": "code",
   "execution_count": 24,
   "metadata": {},
   "outputs": [
    {
     "name": "stdout",
     "output_type": "stream",
     "text": [
      "('mistral-7b-amazon-google-test', 'Mistral|amazon_google-MoE-CT')\n",
      "('mistral-7b-semi-text-w-test-MoE', 'Mistral|amazon_google-MoE-CT')\n",
      "('mistral-7b-walmart_test_output_wide', 'Mistral|amazon_google-MoE-CT')\n",
      "('mistral-7b-restaurant_test_output_wide', 'Mistral|amazon_google-MoE-CT')\n",
      "('mistral-7b-WebTable_Test_few', 'Mistral|amazon_google-MoE-CT')\n",
      "('mistral-7b-SimTab_test_few', 'Mistral|amazon_google-MoE-CT')\n",
      "Mistral|amazon_google-MoE-CT\n",
      "Mistral|semi_text_w-MoE-CT\n",
      "Mistral|webtable-MoE-CT\n",
      "Mistral|SimTab-MoE-CT\n",
      "Mistral|restaurant-MoE-CT\n",
      "Mistral|walmart-MoE-CT\n"
     ]
    }
   ],
   "source": [
    "for i in range(6):\n",
    "    print((csv_files_info_list[i][1].split('/')[-1].replace('.csv',''),csv_files_info_list[i][0]))\n",
    "for i in range(6):\n",
    "    k = 6*i\n",
    "    print((csv_files_info_list[k][0]))"
   ]
  },
  {
   "cell_type": "code",
   "execution_count": null,
   "metadata": {},
   "outputs": [],
   "source": [
    "lora_path_dict = {'hospital':'/home/yanmy/LLaMA-Factory-main/lora_weight/MoE/hospital-train-MoE-Llama-2-7b',\n",
    "                  'beer':'/home/yanmy/LLaMA-Factory-main/lora_weight/MoE/beer-train-MoE-Llama-2-7b',\n",
    "                  'rayyan':'/home/yanmy/LLaMA-Factory-main/lora_weight/MoE/rayyan-train-MoE-Llama-2-7b',\n",
    "                  'merge-linear':'/home/yanmy/LLaMA-Factory-main/lora_weight/MoE/data-cleaning-adapter',\n",
    "                  'merge-cat':'/home/yanmy/LLaMA-Factory-main/lora_weight/MoE/data-cleaning-adapter-cat',\n",
    "                  'merge-hospital-linear':'/home/yanmy/LLaMA-Factory-main/lora_weight/MoE/data-cleaning-adapter-hospital',\n",
    "                  'Mixtral-baseline':'/home/yanmy/LLaMA-Factory-main/lora_weight/Mixtral-baseline-MTL',\n",
    "                  'jellyfish-baseline':'/home/yanmy/LLaMA-Factory-main/lora_weight/jellyfish-baseline-MTL',\n",
    "                  'MoE-CT-amazon-google':'/home/yanmy/LLaMA-Factory-main/lora_weight/MoE_CT/add/Mistral/amazon_google-MoE-CT'}"
   ]
  },
  {
   "cell_type": "code",
   "execution_count": 25,
   "metadata": {},
   "outputs": [],
   "source": [
    "Mapping_file = {'mistral-7b-amazon-google-test':'Mistral|amazon_google-MoE-CT',\n",
    "                'mistral-7b-semi-text-w-test-MoE': 'Mistral|semi_text_w-MoE-CT',\n",
    "                'mistral-7b-WebTable_Test_few':'Mistral|webtable-MoE-CT',\n",
    "                'mistral-7b-walmart_test_output_wide':'Mistral|walmart-MoE-CT',\n",
    "                'mistral-7b-restaurant_test_output_wide':'Mistral|restaurant-MoE-CT',\n",
    "                'mistral-7b-SimTab_test_few':'Mistral|SimTab-MoE-CT'\n",
    "                }"
   ]
  },
  {
   "cell_type": "code",
   "execution_count": 34,
   "metadata": {},
   "outputs": [],
   "source": [
    "Domain_Dict = {'Mistral|amazon_google-MoE-CT':['Mistral|amazon_google-MoE-CT','Mistral|semi_text_w-MoE-CT'],\n",
    "               'Mistral|semi_text_w-MoE-CT':['Mistral|amazon_google-MoE-CT','Mistral|semi_text_w-MoE-CT'],\n",
    "               'Mistral|webtable-MoE-CT':['Mistral|webtable-MoE-CT','Mistral|SimTab-MoE-CT'],\n",
    "               'Mistral|SimTab-MoE-CT':['Mistral|webtable-MoE-CT','Mistral|SimTab-MoE-CT'],\n",
    "               'Mistral|restaurant-MoE-CT':['Mistral|restaurant-MoE-CT','Mistral|walmart-MoE-CT'],\n",
    "               'Mistral|walmart-MoE-CT':['Mistral|restaurant-MoE-CT','Mistral|walmart-MoE-CT']\n",
    "               }"
   ]
  },
  {
   "cell_type": "code",
   "execution_count": 26,
   "metadata": {},
   "outputs": [],
   "source": [
    "MoE_list.to_csv('Router/MoE_list_update.csv')"
   ]
  },
  {
   "cell_type": "code",
   "execution_count": null,
   "metadata": {},
   "outputs": [],
   "source": [
    "MoE_dict = {}\n",
    "def AST(row):\n",
    "    output = row['output'].strip()\n",
    "    predict = row['predict'].strip()\n",
    "    output_item = list(eval(output).values())[0]\n",
    "    try:\n",
    "        predict_item = list(eval(predict).values())[0]\n",
    "    except:\n",
    "        predict_item = ''\n",
    "    row['output_item'] = output_item.lower().strip()\n",
    "    row['predict_item'] = predict_item.lower().strip()\n",
    "    return row\n",
    "for expert_path in tqdm(csv_files_info_list):\n",
    "    # for expert,file_path in expert_path:\n",
    "        expert = expert_path[0]\n",
    "        file_path = expert_path[1]\n",
    "        df = pd.read_csv(file_path,index_col=0)\n",
    "        df['expert'] = expert\n",
    "        df = df.progress_apply(AST,axis=1)\n",
    "        for index,row in df.iterrows():\n",
    "            query = row['instruction']\n",
    "            if(not MoE_dict.__contains__(query)):\n",
    "                MoE_dict[query] = {}\n",
    "                MoE_dict[query]['pos'] = []\n",
    "                MoE_dict[query]['neg'] = []\n",
    "                MoE_dict[query]['domain'] = Mapping_file[file_path.split('/')[-1].replace('.csv','')]\n",
    "            if(row['output_item']==row['predict_item']):\n",
    "                tmp = MoE_dict[query]['pos']\n",
    "                tmp.append(expert)\n",
    "                MoE_dict[query]['pos'] = tmp\n",
    "            else:\n",
    "                tmp = MoE_dict[query]['neg']\n",
    "                tmp.append(expert)\n",
    "                MoE_dict[query]['neg'] = tmp"
   ]
  },
  {
   "cell_type": "code",
   "execution_count": 29,
   "metadata": {},
   "outputs": [],
   "source": [
    "MoE_list = pd.DataFrame(MoE_dict).T\n",
    "MoE_list['query'] = MoE_list.index\n",
    "MoE_list = MoE_list.reset_index(drop=True)"
   ]
  },
  {
   "cell_type": "code",
   "execution_count": 31,
   "metadata": {},
   "outputs": [],
   "source": [
    "MoE_list_update['domain'] = MoE_list['domain']"
   ]
  },
  {
   "cell_type": "code",
   "execution_count": 36,
   "metadata": {},
   "outputs": [
    {
     "name": "stderr",
     "output_type": "stream",
     "text": [
      "pandas bar: 100%|██████████| 29587/29587 [00:19<00:00, 1503.82it/s]\n"
     ]
    }
   ],
   "source": [
    "### From Here we Construct the Cross-Task and Cross-Domain Evaluation selection(top-2) for experts per example\n",
    "k = 2\n",
    "def Cross_Domain_Selection(row):\n",
    "    domain = row['domain']\n",
    "    expert_predict = eval(row['expert_predict'])\n",
    "    row['cross-dataset'] = [e for e in expert_predict if e!=domain][:k]\n",
    "    row['cross-task'] = [e for e in expert_predict if e not in Domain_Dict[domain]][:k]\n",
    "    return row\n",
    "MoE_list_update = MoE_list_update.progress_apply(Cross_Domain_Selection,axis=1)"
   ]
  },
  {
   "cell_type": "code",
   "execution_count": 39,
   "metadata": {},
   "outputs": [],
   "source": [
    "expert_list = []\n",
    "for index,row in MoE_list_update.iterrows():\n",
    "    expert_list.append(set(row['cross-dataset'])) if set(row['cross-dataset']) not in expert_list else None\n",
    "    expert_list.append(set(row['cross-task'])) if set(row['cross-task']) not in expert_list else None"
   ]
  },
  {
   "cell_type": "code",
   "execution_count": null,
   "metadata": {},
   "outputs": [],
   "source": []
  },
  {
   "cell_type": "code",
   "execution_count": 1,
   "metadata": {},
   "outputs": [
    {
     "data": {
      "application/json": {
       "ascii": false,
       "bar_format": null,
       "colour": null,
       "elapsed": 0.016434907913208008,
       "initial": 0,
       "n": 0,
       "ncols": null,
       "nrows": null,
       "postfix": null,
       "prefix": "Loading checkpoint shards",
       "rate": null,
       "total": 3,
       "unit": "it",
       "unit_divisor": 1000,
       "unit_scale": false
      },
      "application/vnd.jupyter.widget-view+json": {
       "model_id": "a776ee26a15342d5a26aafec3c82e64a",
       "version_major": 2,
       "version_minor": 0
      },
      "text/plain": [
       "Loading checkpoint shards:   0%|          | 0/3 [00:00<?, ?it/s]"
      ]
     },
     "metadata": {},
     "output_type": "display_data"
    },
    {
     "name": "stderr",
     "output_type": "stream",
     "text": [
      "/home/wangys/anaconda3/lib/python3.9/site-packages/torch/_utils.py:831: UserWarning: TypedStorage is deprecated. It will be removed in the future and UntypedStorage will be the only storage class. This should only matter to you if you are using storages directly.  To access UntypedStorage directly, use tensor.untyped_storage() instead of tensor.storage()\n",
      "  return self.fget.__get__(instance, owner)()\n"
     ]
    }
   ],
   "source": [
    "from transformers import AutoModelForCausalLM\n",
    "import torch\n",
    "# 加载基础模型\n",
    "from peft import PeftModel\n",
    "base_model = AutoModelForCausalLM.from_pretrained(\"Mistral-7B-Instruct-v0.2\",device_map='auto') ## 专家A,domain expert"
   ]
  },
  {
   "cell_type": "code",
   "execution_count": 2,
   "metadata": {},
   "outputs": [],
   "source": [
    "peft_model_id = \"lora_weight/MoE_CT/add/Mistral/amazon_google-MoE-CT\"\n",
    "model = PeftModel.from_pretrained(base_model, model_id=peft_model_id,adapter_name='Mistral|amazon_google-MoE-CT')"
   ]
  },
  {
   "cell_type": "code",
   "execution_count": null,
   "metadata": {},
   "outputs": [],
   "source": [
    "model.load_adapter(\"lora_weight/MoE_CT/add/Mistral/amazon_google-MoE-CT\", adapter_name=\"Mistral|amazon_google-MoE-CT\")\n",
    "model.load_adapter(\"lora_weight/MoE_CT/add/Mistral/restaurant-MoE-CT\", adapter_name=\"Mistral|restaurant-MoE-CT\")\n",
    "model.load_adapter(\"lora_weight/MoE_CT/add/Mistral/semi_text_w-MoE-CT\", adapter_name=\"Mistral|semi_text_w-MoE-CT\")\n",
    "model.load_adapter(\"lora_weight/MoE_CT/add/Mistral/SimTab-MoE-CT\", adapter_name=\"Mistral|SimTab-MoE-CT\")\n",
    "model.load_adapter(\"lora_weight/MoE_CT/add/Mistral/walmart-MoE-CT\", adapter_name=\"Mistral|walmart-MoE-CT\")\n",
    "model.load_adapter(\"lora_weight/MoE_CT/add/Mistral/webtable-MoE-CT\", adapter_name=\"Mistral|webtable-MoE-CT\")\n"
   ]
  },
  {
   "cell_type": "markdown",
   "metadata": {},
   "source": [
    "## From here we mixture multiple experts for vary experts number k experiments\n"
   ]
  },
  {
   "cell_type": "code",
   "execution_count": 2,
   "metadata": {},
   "outputs": [],
   "source": [
    "peft_model_id = \"lora_weight/MoE/add/Mistral/amazon_google-MoE-Add\"\n",
    "model = PeftModel.from_pretrained(base_model, model_id=peft_model_id,adapter_name='amazon-google')"
   ]
  },
  {
   "cell_type": "code",
   "execution_count": null,
   "metadata": {},
   "outputs": [],
   "source": [
    "model.load_adapter(\"lora_weight/MoE/add/Mistral/amazon_train-MoE-Add\", adapter_name=\"amazon\")\n",
    "model.load_adapter(\"lora_weight/MoE/add/Mistral/ant_buy-MoE-Add\", adapter_name=\"ant-buy\")\n",
    "model.load_adapter(\"lora_weight/MoE/add/Mistral/CMS_train-MoE-Add\", adapter_name=\"CMS\")\n",
    "model.load_adapter(\"lora_weight/MoE/add/Mistral/restaurant_train-MoE-Add\", adapter_name=\"restaurant\")\n",
    "model.load_adapter(\"lora_weight/MoE/add/Mistral/semi_text_c-MoE-Add\", adapter_name=\"semi-text-c\")\n",
    "model.load_adapter(\"lora_weight/MoE/add/Mistral/semi_text_w-MoE-Add\", adapter_name=\"semi-text-w\")\n",
    "model.load_adapter(\"lora_weight/MoE/add/Mistral/walmart_amazon-MoE-Add\", adapter_name=\"walmart-amazon\")\n",
    "model.load_adapter(\"lora_weight/MoE/add/Mistral/walmart_train-MoE-Add\", adapter_name=\"walmart\")\n",
    "model.load_adapter(\"lora_weight/MoE/add/Mistral/wdc_all-MoE-Add\", adapter_name=\"wdc-all\")\n",
    "model.load_adapter(\"lora_weight/CTA/CTA_SimTab_train_init\", adapter_name=\"SimTab\")\n",
    "model.load_adapter(\"lora_weight/CTA/CTA_WebTable_train_init\", adapter_name=\"WebTable\")\n",
    "model.load_adapter(\"lora_weight/MoE/add/Mistral/hospital_train-MoE-Add\", adapter_name=\"hospital\")\n",
    "model.load_adapter(\"lora_weight/MoE/add/Mistral/beer_train-MoE-Add\", adapter_name=\"beer\")\n",
    "model.load_adapter(\"lora_weight/MoE/add/Mistral/rayyan_train-MoE-Add\", adapter_name=\"rayyan\")"
   ]
  },
  {
   "cell_type": "code",
   "execution_count": 4,
   "metadata": {},
   "outputs": [],
   "source": [
    "adapter_sequence = [\"beer\",'hospital','rayyan','wdc-all','walmart-amazon','WebTable','SimTab',\"ant-buy\"]"
   ]
  },
  {
   "cell_type": "code",
   "execution_count": 5,
   "metadata": {},
   "outputs": [],
   "source": [
    "model.add_weighted_adapter(\n",
    "    adapters=adapter_sequence[:1],\n",
    "    weights=[1],\n",
    "    adapter_name=\"Expert-1\",\n",
    "    combination_type=\"cat\"\n",
    ")\n",
    "model.add_weighted_adapter(\n",
    "    adapters=adapter_sequence[:2],\n",
    "    weights=[0.5,0.5],\n",
    "    adapter_name=\"Expert-2\",\n",
    "    combination_type=\"cat\"\n",
    ")\n",
    "model.add_weighted_adapter(\n",
    "    adapters=adapter_sequence[:3],\n",
    "    weights=[0.3,0.3,0.4],\n",
    "    adapter_name=\"Expert-3\",\n",
    "    combination_type=\"cat\"\n",
    ")\n",
    "model.add_weighted_adapter(\n",
    "    adapters=adapter_sequence[:4],\n",
    "    weights=[0.25,0.25,0.25,0.25],\n",
    "    adapter_name=\"Expert-4\",\n",
    "    combination_type=\"cat\"\n",
    ")\n",
    "model.add_weighted_adapter(\n",
    "    adapters=adapter_sequence[:5],\n",
    "    weights=[0.2, 0.2, 0.2, 0.2, 0.2],\n",
    "    adapter_name=\"Expert-5\",\n",
    "    combination_type=\"cat\"\n",
    ")\n",
    "model.add_weighted_adapter(\n",
    "    adapters=adapter_sequence[:6],\n",
    "    weights=[0.16, 0.16, 0.2, 0.16,0.16,0.16,],\n",
    "    adapter_name=\"Expert-6\",\n",
    "    combination_type=\"cat\"\n",
    ")\n",
    "model.add_weighted_adapter(\n",
    "    adapters=adapter_sequence[:7],\n",
    "    weights=[0.1,0.1,0.4,0.1,0.1,0.1,0.1],\n",
    "    adapter_name=\"Expert-7\",\n",
    "    combination_type=\"cat\"\n",
    ")\n",
    "model.add_weighted_adapter(\n",
    "    adapters=adapter_sequence[:8],\n",
    "    weights=[0.1,0.1,0.3,0.1,0.1,0.1,0.1,0.1],\n",
    "    adapter_name=\"Expert-8\",\n",
    "    combination_type=\"cat\"\n",
    ")"
   ]
  },
  {
   "cell_type": "code",
   "execution_count": 4,
   "metadata": {},
   "outputs": [],
   "source": [
    "model.add_weighted_adapter(\n",
    "    adapters=[\"ant-buy\"],\n",
    "    weights=[1],\n",
    "    adapter_name=\"Expert-1\",\n",
    "    combination_type=\"cat\"\n",
    ")\n",
    "model.add_weighted_adapter(\n",
    "    adapters=[\"ant-buy\",\"amazon-google\"],\n",
    "    weights=[0.5,0.5],\n",
    "    adapter_name=\"Expert-2\",\n",
    "    combination_type=\"cat\"\n",
    ")\n",
    "model.add_weighted_adapter(\n",
    "    adapters=[\"ant-buy\",\"amazon-google\",'semi-text-w'],\n",
    "    weights=[0.3,0.3,0.4],\n",
    "    adapter_name=\"Expert-3\",\n",
    "    combination_type=\"cat\"\n",
    ")\n",
    "model.add_weighted_adapter(\n",
    "    adapters=[\"ant-buy\",\"amazon-google\",'semi-text-w','semi-text-c'],\n",
    "    weights=[0.25,0.25,0.25,0.25],\n",
    "    adapter_name=\"Expert-4\",\n",
    "    combination_type=\"cat\"\n",
    ")\n",
    "model.add_weighted_adapter(\n",
    "    adapters=[\"ant-buy\",\"amazon-google\",'semi-text-w','semi-text-c','wdc-all'],\n",
    "    weights=[0.2, 0.2, 0.2, 0.2, 0.2],\n",
    "    adapter_name=\"Expert-5\",\n",
    "    combination_type=\"cat\"\n",
    ")\n",
    "model.add_weighted_adapter(\n",
    "    adapters=[\"ant-buy\",\"amazon-google\",'semi-text-w','semi-text-c','wdc-all','walmart-amazon'],\n",
    "    weights=[0.16, 0.16, 0.2, 0.16,0.16,0.16,],\n",
    "    adapter_name=\"Expert-6\",\n",
    "    combination_type=\"cat\"\n",
    ")\n",
    "model.add_weighted_adapter(\n",
    "    adapters=[\"ant-buy\",\"amazon-google\",'semi-text-w','semi-text-c','wdc-all','walmart-amazon','WebTable'],\n",
    "    weights=[0.1,0.1,0.4,0.1,0.1,0.1,0.1],\n",
    "    adapter_name=\"Expert-7\",\n",
    "    combination_type=\"cat\"\n",
    ")\n",
    "model.add_weighted_adapter(\n",
    "    adapters=[\"ant-buy\",\"amazon-google\",'semi-text-w','semi-text-c','wdc-all','walmart-amazon','WebTable','SimTab'],\n",
    "    weights=[0.1,0.1,0.3,0.1,0.1,0.1,0.1,0.1],\n",
    "    adapter_name=\"Expert-8\",\n",
    "    combination_type=\"cat\"\n",
    ")"
   ]
  },
  {
   "cell_type": "code",
   "execution_count": 5,
   "metadata": {},
   "outputs": [],
   "source": [
    "model.add_weighted_adapter(\n",
    "    adapters=[\"amazon-google\", \"semi-text-c\", \"ant-buy\"],\n",
    "    weights=[1, 0.1, 0.3],\n",
    "    adapter_name=\"Expert-3\",\n",
    "    combination_type=\"cat\"\n",
    ")\n",
    "model.add_weighted_adapter(\n",
    "    adapters=[\"amazon-google\", \"semi-text-c\", \"ant-buy\", \"walmart-amazon\"],\n",
    "    weights=[0.6, 0.1, 0.15, 0.15],\n",
    "    adapter_name=\"Expert-4\",\n",
    "    combination_type=\"cat\"\n",
    ")\n",
    "model.add_weighted_adapter(\n",
    "    adapters=[\"amazon-google\", \"semi-text-c\", \"ant-buy\", \"walmart-amazon\"],\n",
    "    weights=[0.3, 0.3, 0.25, 0.15],\n",
    "    adapter_name=\"Expert-5\",\n",
    "    combination_type=\"cat\"\n",
    ")\n",
    "model.add_weighted_adapter(\n",
    "    adapters=[\"amazon-google\", \"semi-text-c\", \"ant-buy\", \"walmart-amazon\"],\n",
    "    weights=[0.1, 0.5, 0.25, 0.15],\n",
    "    adapter_name=\"Expert-6\",\n",
    "    combination_type=\"cat\"\n",
    ")\n",
    "model.add_weighted_adapter(\n",
    "    adapters=[\"wdc-all\", \"semi-text-c\", \"ant-buy\", \"walmart-amazon\"],\n",
    "    weights=[0.1, 0.5, 0.25, 0.15],\n",
    "    adapter_name=\"Expert-7\",\n",
    "    combination_type=\"cat\"\n",
    ")\n",
    "model.add_weighted_adapter(\n",
    "    adapters=[\"SimTab\", \"semi-text-c\", \"ant-buy\", \"walmart-amazon\"],\n",
    "    weights=[0.7, 0.1, 0.1, 0.1],\n",
    "    adapter_name=\"Expert-8\",\n",
    "    combination_type=\"cat\"\n",
    ")"
   ]
  },
  {
   "cell_type": "code",
   "execution_count": 56,
   "metadata": {},
   "outputs": [
    {
     "data": {
      "application/vnd.jupyter.widget-view+json": {
       "model_id": "eebe5f9a0ec6446ebe319175aa7e3ab7",
       "version_major": 2,
       "version_minor": 0
      },
      "text/plain": [
       "  0%|          | 0/14 [00:00<?, ?it/s]"
      ]
     },
     "metadata": {},
     "output_type": "display_data"
    }
   ],
   "source": [
    "for expert_pair in tqdm(expert_list):\n",
    "    expert_0,expert_1 = list(expert_pair)\n",
    "    model.add_weighted_adapter(\n",
    "    adapters=[expert_0, expert_1],\n",
    "    weights=[1, 1],\n",
    "    adapter_name=\"%s#%s\" % (expert_0,expert_1),\n",
    "    combination_type=\"cat\")"
   ]
  },
  {
   "cell_type": "code",
   "execution_count": 9,
   "metadata": {},
   "outputs": [
    {
     "data": {
      "text/plain": [
       "['Expert-1',\n",
       " 'Expert-2',\n",
       " 'Expert-3',\n",
       " 'Expert-4',\n",
       " 'Expert-5',\n",
       " 'Expert-6',\n",
       " 'Expert-7',\n",
       " 'Expert-8']"
      ]
     },
     "execution_count": 9,
     "metadata": {},
     "output_type": "execute_result"
    }
   ],
   "source": [
    "['Expert-%s' % str(i) for i in range(1,9,1)]"
   ]
  },
  {
   "cell_type": "code",
   "execution_count": 6,
   "metadata": {},
   "outputs": [],
   "source": [
    "model.save_pretrained(model_id = 'merge_experts_semi_text_w',save_directory='lora_weight/MoE_CT/add/Mistral/merge_experts_hospital/',selected_adapters=['Expert-1',\n",
    " 'Expert-2',\n",
    " 'Expert-3',\n",
    " 'Expert-4',\n",
    " 'Expert-5',\n",
    " 'Expert-6',\n",
    " 'Expert-7',\n",
    " 'Expert-8'])"
   ]
  },
  {
   "cell_type": "code",
   "execution_count": 49,
   "metadata": {},
   "outputs": [],
   "source": [
    "model.add_weighted_adapter(\n",
    "    adapters=[\"Mistral|SimTab-MoE-CT\", \"Mistral|semi_text_w-MoE-CT\"],\n",
    "    weights=[1, 1],\n",
    "    adapter_name=\"Mistral|SimTab-MoE-CT#Mistral|semi_text_w-MoE-CT\",\n",
    "    combination_type=\"cat\"\n",
    ")\n",
    "model_id_merge = 'Mistral|SimTab-MoE-CT#Mistral|semi_text_w-MoE-CT'\n",
    "model.save_pretrained(model_id = model_id_merge,save_directory='lora_weight/MoE_CT/add/Mistral/merge/%s' % model_id_merge) ## Save the Merged File"
   ]
  },
  {
   "cell_type": "code",
   "execution_count": null,
   "metadata": {},
   "outputs": [],
   "source": [
    "## Initial Thoughts: Merge Model By Weights and save to file, which should be quick\n",
    "# from transformers import AutoModelForCausalLM\n",
    "# import torch\n",
    "# # 加载基础模型\n",
    "# from peft import PeftModel\n",
    "# base_model = AutoModelForCausalLM.from_pretrained(\"/data/yanmengyi/huggingface/Llama-2-7b-hf\",device_map='auto') ## 专家A,domain expert\n",
    "model = PeftModel.from_pretrained(base_model, model_id=\"/data/yanmengyi/LLaMA-Factory-main/lora_weight/MoE/beer-train-MoE-Llama-2-7b\",device_map='auto') ## load domain expert A\n",
    "model.merge_adapter() ## Merge domain expert A\n",
    "model.load_adapter(\n",
    "        \"/data/yanmengyi/LLaMA-Factory-main/lora_weight/MoE/hospital-train-MoE-Llama-2-7b\", adapter_name='adapter_1'\n",
    "    ) ## Load Domain Expert B\n",
    "model.load_adapter(\n",
    "        \"/data/yanmengyi/LLaMA-Factory-main/lora_weight/MoE/rayyan-train-MoE-Llama-2-7b\", adapter_name='adapter_2'\n",
    "    ) ## Load Domain Expert C\n",
    "model.add_weighted_adapter(\n",
    "    adapters=[\"adapter_1\",\"adapter_2\"],\n",
    "    weights=[0.7, 0.3],\n",
    "    adapter_name=\"data-cleaning-adapter-cat\",\n",
    "    combination_type  = 'cat' ## Linear will combine 0.7A+0.3B to 16 rank; Cat will combine 0.7A+0.3B to 32 rank\n",
    ")\n",
    "model.save_pretrained(model_id = 'data-cleaning-adapter-cat',save_directory='data-cleaning-adapter-cat') ## Save the Merged File"
   ]
  },
  {
   "cell_type": "code",
   "execution_count": null,
   "metadata": {},
   "outputs": [],
   "source": [
    "model.add_weighted_adapter(\n",
    "    adapters=[\"sft\", \"dpo\"],\n",
    "    weights=[0.7, 0.3],\n",
    "    adapter_name=\"sft-dpo\",\n",
    "    combination_type=\"linear\"\n",
    ")"
   ]
  },
  {
   "cell_type": "code",
   "execution_count": 10,
   "metadata": {},
   "outputs": [],
   "source": [
    "np.save('Router/embeddings_1.npy',embeddings_1)"
   ]
  },
  {
   "cell_type": "code",
   "execution_count": 9,
   "metadata": {},
   "outputs": [
    {
     "name": "stderr",
     "output_type": "stream",
     "text": [
      "encoding: 100%|██████████| 309/309 [03:31<00:00,  1.46it/s]\n"
     ]
    },
    {
     "ename": "NameError",
     "evalue": "name 'expert_list' is not defined",
     "output_type": "error",
     "traceback": [
      "\u001b[0;31m---------------------------------------------------------------------------\u001b[0m",
      "\u001b[0;31mNameError\u001b[0m                                 Traceback (most recent call last)",
      "\u001b[0;32m/tmp/ipykernel_2803481/3210721549.py\u001b[0m in \u001b[0;36m<module>\u001b[0;34m\u001b[0m\n\u001b[1;32m      3\u001b[0m                             \u001b[0mmax_length\u001b[0m\u001b[0;34m=\u001b[0m\u001b[0;36m4096\u001b[0m\u001b[0;34m,\u001b[0m \u001b[0;31m# If you don't need such a long length, you can set a smaller value to speed up the encoding process.\u001b[0m\u001b[0;34m\u001b[0m\u001b[0;34m\u001b[0m\u001b[0m\n\u001b[1;32m      4\u001b[0m                             )['dense_vecs']\n\u001b[0;32m----> 5\u001b[0;31m \u001b[0membeddings_2\u001b[0m \u001b[0;34m=\u001b[0m \u001b[0mmodel\u001b[0m\u001b[0;34m.\u001b[0m\u001b[0mencode\u001b[0m\u001b[0;34m(\u001b[0m\u001b[0mexpert_list\u001b[0m\u001b[0;34m)\u001b[0m\u001b[0;34m[\u001b[0m\u001b[0;34m'dense_vecs'\u001b[0m\u001b[0;34m]\u001b[0m\u001b[0;34m\u001b[0m\u001b[0;34m\u001b[0m\u001b[0m\n\u001b[0m\u001b[1;32m      6\u001b[0m \u001b[0msimilarity\u001b[0m \u001b[0;34m=\u001b[0m \u001b[0membeddings_1\u001b[0m \u001b[0;34m@\u001b[0m \u001b[0membeddings_2\u001b[0m\u001b[0;34m.\u001b[0m\u001b[0mT\u001b[0m\u001b[0;34m\u001b[0m\u001b[0;34m\u001b[0m\u001b[0m\n\u001b[1;32m      7\u001b[0m \u001b[0mprint\u001b[0m\u001b[0;34m(\u001b[0m\u001b[0msimilarity\u001b[0m\u001b[0;34m)\u001b[0m\u001b[0;34m\u001b[0m\u001b[0;34m\u001b[0m\u001b[0m\n",
      "\u001b[0;31mNameError\u001b[0m: name 'expert_list' is not defined"
     ]
    }
   ],
   "source": [
    "embeddings_1 = model.encode(MoE_list_update['query'].to_list(), \n",
    "                            batch_size=12, \n",
    "                            max_length=4096, # If you don't need such a long length, you can set a smaller value to speed up the encoding process.\n",
    "                            )['dense_vecs']\n",
    "embeddings_2 = model.encode(expert_list)['dense_vecs']\n",
    "similarity = embeddings_1 @ embeddings_2.T\n",
    "print(similarity)"
   ]
  },
  {
   "cell_type": "code",
   "execution_count": 18,
   "metadata": {},
   "outputs": [],
   "source": [
    "matrix_dict = {}\n",
    "for expert in MoE_list_update['domain'].unique():\n",
    "    expert_df = list(MoE_list_update[MoE_list_update['domain']==expert].sample(n=500,replace=True).index)\n",
    "    matrix_dict[expert] = embeddings_1[expert_df]"
   ]
  },
  {
   "cell_type": "code",
   "execution_count": 19,
   "metadata": {},
   "outputs": [],
   "source": [
    "matrix_list = []\n",
    "for key in matrix_dict.keys():\n",
    "    matrix_list.append(matrix_dict[key])"
   ]
  },
  {
   "cell_type": "code",
   "execution_count": 20,
   "metadata": {},
   "outputs": [
    {
     "data": {
      "text/plain": [
       "(500, 1024)"
      ]
     },
     "execution_count": 20,
     "metadata": {},
     "output_type": "execute_result"
    }
   ],
   "source": [
    "matrix_list[0].shape"
   ]
  },
  {
   "cell_type": "code",
   "execution_count": 42,
   "metadata": {},
   "outputs": [
    {
     "data": {
      "image/png": "[encoded data removed]",
      "text/plain": [
       "<Figure size 720x576 with 1 Axes>"
      ]
     },
     "metadata": {
      "needs_background": "light"
     },
     "output_type": "display_data"
    }
   ],
   "source": [
    "from sklearn.manifold import TSNE\n",
    "import matplotlib.pyplot as plt\n",
    "import numpy as np\n",
    "\n",
    "def plot_tsne(matrices, perplexity=25, n_components=2, learning_rate=200):\n",
    "    \"\"\"\n",
    "    绘制由多个矩阵组成的数据集的t-SNE图。\n",
    "    \n",
    "    :param matrices: 一个矩阵列表，每个矩阵包含若干个n维向量。\n",
    "    :param perplexity: t-SNE的困惑度参数。\n",
    "    :param n_components: t-SNE降维后的维数。\n",
    "    :param learning_rate: t-SNE的学习率。\n",
    "    \"\"\"\n",
    "    # 将所有矩阵合并为一个大矩阵，并记住每个原始矩阵的索引范围\n",
    "    all_data = np.vstack(matrices)\n",
    "    indices = np.hstack([[i] * len(m) for i, m in enumerate(matrices)])\n",
    "    \n",
    "    # 应用t-SNE降维\n",
    "    tsne = TSNE(n_components=n_components, perplexity=perplexity, learning_rate=learning_rate)\n",
    "    tsne_results = tsne.fit_transform(all_data)\n",
    "    \n",
    "    # 绘图\n",
    "    plt.figure(figsize=(10, 8))\n",
    "    colors = plt.cm.rainbow(np.linspace(0, 1, len(matrices)))\n",
    "    for i, color in zip(range(len(matrices)), colors):\n",
    "        plt.scatter(tsne_results[indices == i, 0], tsne_results[indices == i, 1], c=[color], label=list(matrix_dict.keys())[i].replace('Mistral|','').replace('-MoE-CT','').replace('amazon','EM:amazon').replace('semi_text_w','EM:semi_text_w').replace('walmart','DI:walmart').replace('restaurant','DI:restaurant').replace('webtable','CTA:WebTable').replace('SimTab','CTA:SimTab'))\n",
    "    \n",
    "    plt.legend(fontsize=14, framealpha=0)\n",
    "    plt.title('t-SNE visualization of task vectors $\\Theta$ over different domains with router network $\\mathcal{N}$')\n",
    "    plt.savefig('t-SNE.svg', format='svg')\n",
    "    plt.show()\n",
    "    \n",
    "    plt.close()\n",
    "    \n",
    "# 示例：生成一些随机数据来测试这个函数\n",
    "# np.random.seed(42)  # 为了可重复性\n",
    "# matrix1 = np.random.normal(loc=0, scale=1, size=(100, 50))  # 100个50维向量\n",
    "# matrix2 = np.random.normal(loc=5, scale=1, size=(100, 50))  # 另外100个50维向量，但中心不同\n",
    "# matrix3 = np.random.normal(loc=-5, scale=1, size=(100, 50)) # 第三组100个50维向量，中心也不同\n",
    "\n",
    "\n",
    "\n",
    "# 绘制t-SNE图\n",
    "plot_tsne(matrix_list)\n"
   ]
  },
  {
   "cell_type": "code",
   "execution_count": 20,
   "metadata": {},
   "outputs": [],
   "source": [
    "MoE_predict = []\n",
    "for index,row in MoE_list.iterrows():\n",
    "    MoE_predict.append([expert_list[a] for a in np.argsort(-similarity[index])])"
   ]
  },
  {
   "cell_type": "code",
   "execution_count": 21,
   "metadata": {},
   "outputs": [],
   "source": [
    "MoE_list['expert_predict'] = MoE_predict"
   ]
  },
  {
   "cell_type": "code",
   "execution_count": 25,
   "metadata": {},
   "outputs": [
    {
     "data": {
      "text/plain": [
       "['Mistral|amazon_google-MoE-CT',\n",
       " 'Mistral|semi_text_w-MoE-CT',\n",
       " 'Mistral|SimTab-MoE-CT',\n",
       " 'Mistral|walmart-MoE-CT',\n",
       " 'Mistral|webtable-MoE-CT',\n",
       " 'Mistral|restaurant-MoE-CT']"
      ]
     },
     "execution_count": 25,
     "metadata": {},
     "output_type": "execute_result"
    }
   ],
   "source": [
    "MoE_list.iloc[552,-1]"
   ]
  },
  {
   "cell_type": "code",
   "execution_count": null,
   "metadata": {},
   "outputs": [],
   "source": [
    "### Calculate the Top-2 Expert"
   ]
  }
 ],
 "metadata": {
  "kernelspec": {
   "display_name": "base",
   "language": "python",
   "name": "python3"
  },
  "language_info": {
   "codemirror_mode": {
    "name": "ipython",
    "version": 3
   },
   "file_extension": ".py",
   "mimetype": "text/x-python",
   "name": "python",
   "nbconvert_exporter": "python",
   "pygments_lexer": "ipython3",
   "version": "3.9.7"
  }
 },
 "nbformat": 4,
 "nbformat_minor": 2
}
