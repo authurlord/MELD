{
 "cells": [
  {
   "cell_type": "code",
   "execution_count": 1,
   "metadata": {},
   "outputs": [],
   "source": [
    "from vllm import LLM, SamplingParams\n",
    "from transformers import AutoTokenizer\n",
    "import pandas as pd\n",
    "import numpy as np\n",
    "from time import sleep\n",
    "import argparse\n",
    "parser = argparse.ArgumentParser(description=\"A simple command-line argument parser example.\")\n",
    "import os\n",
    "import json"
   ]
  },
  {
   "cell_type": "code",
   "execution_count": 2,
   "metadata": {},
   "outputs": [
    {
     "name": "stdout",
     "output_type": "stream",
     "text": [
      "WARNING 09-11 00:13:53 config.py:378] To see benefits of async output processing, enable CUDA graph. Since, enforce-eager is enabled, async output processor cannot be used\n",
      "INFO 09-11 00:13:53 llm_engine.py:213] Initializing an LLM engine (v0.6.0) with config: model='../model/Mistral-7B-Instruct-v0.2/', speculative_config=None, tokenizer='../model/Mistral-7B-Instruct-v0.2/', skip_tokenizer_init=False, tokenizer_mode=auto, revision=None, override_neuron_config=None, rope_scaling=None, rope_theta=None, tokenizer_revision=None, trust_remote_code=False, dtype=torch.bfloat16, max_seq_len=32768, download_dir=None, load_format=LoadFormat.AUTO, tensor_parallel_size=1, pipeline_parallel_size=1, disable_custom_all_reduce=False, quantization=None, enforce_eager=True, kv_cache_dtype=auto, quantization_param_path=None, device_config=cuda, decoding_config=DecodingConfig(guided_decoding_backend='outlines'), observability_config=ObservabilityConfig(otlp_traces_endpoint=None, collect_model_forward_time=False, collect_model_execute_time=False), seed=0, served_model_name=../model/Mistral-7B-Instruct-v0.2/, use_v2_block_manager=False, num_scheduler_steps=1, enable_prefix_caching=False, use_async_output_proc=False)\n",
      "INFO 09-11 00:13:53 model_runner.py:915] Starting to load model ../model/Mistral-7B-Instruct-v0.2/...\n"
     ]
    },
    {
     "name": "stderr",
     "output_type": "stream",
     "text": [
      "[W911 00:13:53.965577089 socket.cpp:697] [c10d] The client socket cannot be initialized to connect to [12-43]:52871 (errno: 97 - Address family not supported by protocol).\n"
     ]
    },
    {
     "data": {
      "application/vnd.jupyter.widget-view+json": {
       "model_id": "6d6e3875930c43ffa86b6577febcd108",
       "version_major": 2,
       "version_minor": 0
      },
      "text/plain": [
       "Loading pt checkpoint shards:   0% Completed | 0/3 [00:00<?, ?it/s]\n"
      ]
     },
     "metadata": {},
     "output_type": "display_data"
    },
    {
     "name": "stderr",
     "output_type": "stream",
     "text": [
      "/home/wangys/anaconda3/envs/deepspeed/lib/python3.12/site-packages/vllm/model_executor/model_loader/weight_utils.py:416: FutureWarning: You are using `torch.load` with `weights_only=False` (the current default value), which uses the default pickle module implicitly. It is possible to construct malicious pickle data which will execute arbitrary code during unpickling (See https://github.com/pytorch/pytorch/blob/main/SECURITY.md#untrusted-models for more details). In a future release, the default value for `weights_only` will be flipped to `True`. This limits the functions that could be executed during unpickling. Arbitrary objects will no longer be allowed to be loaded via this mode unless they are explicitly allowlisted by the user via `torch.serialization.add_safe_globals`. We recommend you start setting `weights_only=True` for any use case where you don't have full control of the loaded file. Please open an issue on GitHub for any issues related to this experimental feature.\n",
      "  state = torch.load(bin_file, map_location=\"cpu\")\n"
     ]
    },
    {
     "name": "stdout",
     "output_type": "stream",
     "text": [
      "INFO 09-11 00:14:02 model_runner.py:926] Loading model weights took 13.4966 GB\n",
      "INFO 09-11 00:14:04 gpu_executor.py:122] # GPU blocks: 27530, # CPU blocks: 2048\n"
     ]
    }
   ],
   "source": [
    "os.environ['CUDA_VISIBLE_DEVICES']='7'\n",
    "llm = LLM(model='../model/Mistral-7B-Instruct-v0.2/',\n",
    "        tensor_parallel_size=1,\n",
    "        #   enable_chunked_prefill=False,\n",
    "        enforce_eager=True,\n",
    "        # gpu_memory_utilization=0.4,\n",
    "        #   num_scheduler_steps=5,  \n",
    "        #   enable_prefix_caching=False\n",
    "        )  # Create an LLM."
   ]
  },
  {
   "cell_type": "code",
   "execution_count": 3,
   "metadata": {},
   "outputs": [],
   "source": [
    "text_list = ['Who is George Bush?']\n",
    "text_all = [\"[INST] %s [/INST]\" % str(a) for a in text_list]"
   ]
  },
  {
   "cell_type": "code",
   "execution_count": 4,
   "metadata": {},
   "outputs": [
    {
     "name": "stderr",
     "output_type": "stream",
     "text": [
      "Processed prompts: 100%|██████████| 1/1 [00:00<00:00,  2.23it/s, est. speed input: 28.99 toks/s, output: 71.35 toks/s]\n"
     ]
    }
   ],
   "source": [
    "sampling_params = SamplingParams(temperature=0, top_p=1,max_tokens=32,logprobs=1)\n",
    "# print(format_dict)\n",
    "outputs = llm.generate(text_all, \n",
    "                       sampling_params)"
   ]
  },
  {
   "cell_type": "code",
   "execution_count": 7,
   "metadata": {},
   "outputs": [
    {
     "data": {
      "text/plain": [
       "'9'"
      ]
     },
     "execution_count": 7,
     "metadata": {},
     "output_type": "execute_result"
    }
   ],
   "source": [
    "element_dict[key].decoded_token"
   ]
  },
  {
   "cell_type": "code",
   "execution_count": 5,
   "metadata": {},
   "outputs": [],
   "source": [
    "generation_list = []\n",
    "token_list_all = []\n",
    "logprob_list_all = []\n",
    "cumulative_logprob_all = []\n",
    "# Print the outputs.\n",
    "for output in outputs:\n",
    "    logprob_lists = []\n",
    "    prompt = output.prompt\n",
    "    generated_text = output.outputs[0].text\n",
    "    token_list = list(output.outputs[0].token_ids)\n",
    "    logprob_list = []\n",
    "    for element_dict in output.outputs[0].logprobs:\n",
    "        \n",
    "        key = list(element_dict.keys())[0]\n",
    "        logprob_value = element_dict[key].logprob\n",
    "        logprob_list.append(logprob_value)\n",
    "    cumulative_logprob_all.append(output.outputs[0].cumulative_logprob)\n",
    "    token_list_all.append(token_list)\n",
    "    logprob_list_all.append(logprob_list)\n",
    "    # print(f\"Prompt: {prompt!r}, Generated text: {generated_text!r}\")\n",
    "    generation_list.append(generated_text)\n",
    "    "
   ]
  },
  {
   "cell_type": "code",
   "execution_count": 30,
   "metadata": {},
   "outputs": [
    {
     "data": {
      "text/plain": [
       "(-1.371503817272469, [-1.371503817272469])"
      ]
     },
     "execution_count": 30,
     "metadata": {},
     "output_type": "execute_result"
    }
   ],
   "source": [
    "sum(logprob_list_all[0]),cumulative_logprob_all"
   ]
  },
  {
   "cell_type": "code",
   "execution_count": 5,
   "metadata": {},
   "outputs": [],
   "source": [
    "generation_list = []\n",
    "logprob_list_all = []\n",
    "# Print the outputs.\n",
    "for output in outputs:\n",
    "    logprob_lists = []\n",
    "    prompt = output.prompt\n",
    "    generated_text = output.outputs[0].text\n",
    "    output\n",
    "    # print(f\"Prompt: {prompt!r}, Generated text: {generated_text!r}\")\n",
    "    generation_list.append(generated_text)"
   ]
  },
  {
   "cell_type": "code",
   "execution_count": 12,
   "metadata": {},
   "outputs": [
    {
     "name": "stdout",
     "output_type": "stream",
     "text": [
      "5163 -9.786603914108127e-05\n",
      "13668 -1.07287787614041e-05\n",
      "349 -0.07919662445783615\n",
      "396 -0.003101659705862403\n",
      "2556 -0.000867467257194221\n",
      "17587 -0.24034476280212402\n",
      "693 -0.20168443024158478\n",
      "6117 -9.119095193454996e-05\n",
      "390 -2.7418097943154862e-06\n",
      "272 -1.9073468138230965e-06\n",
      "28705 -1.7881233361549675e-05\n",
      "28781 -5.960462772236497e-07\n",
      "28740 -0.11282405257225037\n",
      "303 -3.576278118089249e-07\n",
      "5120 -0.0013892533024773002\n",
      "302 -3.576278118089249e-07\n",
      "272 -9.536738616588991e-07\n",
      "2969 -9.536697689327411e-06\n",
      "3543 -6.651657167822123e-05\n",
      "477 -6.437094270950183e-05\n",
      "4624 -0.6935058236122131\n",
      "28705 0.0\n",
      "28740 -0.038041528314352036\n",
      "28774 -1.0728830375228426e-06\n",
      "28783 -2.9802276912960224e-06\n",
      "28774 -2.3841855067985307e-07\n",
      "298 -4.529942543740617e-06\n",
      "4624 -0.0001731960946926847\n",
      "28705 0.0\n",
      "28740 0.0\n",
      "28774 -9.536738616588991e-07\n",
      "28774 -2.3841855067985307e-07\n"
     ]
    }
   ],
   "source": [
    "token_list = list(output.outputs[0].token_ids)\n",
    "for element_dict in output.outputs[0].logprobs:\n",
    "    logprob_list = []\n",
    "    key = list(element_dict.keys())[0]\n",
    "    logprob_value = element_dict[key].logprob\n",
    "    logprob_list.append(logprob_value)\n",
    "    "
   ]
  },
  {
   "cell_type": "code",
   "execution_count": null,
   "metadata": {},
   "outputs": [],
   "source": [
    "def extract_logprobs(request_outputs):\n",
    "    logprob_lists = []\n",
    "    for request_output in request_outputs:\n",
    "        for completion_output in request_output.outputs:\n",
    "            token_logprobs = [logprob.logprob for logprob_dict in completion_output.logprobs for logprob in logprob_dict.values()]\n",
    "            logprob_lists.append(token_logprobs)\n",
    "    return logprob_lists\n",
    "extract_logprobs(outputs)"
   ]
  },
  {
   "cell_type": "code",
   "execution_count": null,
   "metadata": {},
   "outputs": [],
   "source": [
    "outputs"
   ]
  }
 ],
 "metadata": {
  "kernelspec": {
   "display_name": "deepspeed",
   "language": "python",
   "name": "python3"
  },
  "language_info": {
   "codemirror_mode": {
    "name": "ipython",
    "version": 3
   },
   "file_extension": ".py",
   "mimetype": "text/x-python",
   "name": "python",
   "nbconvert_exporter": "python",
   "pygments_lexer": "ipython3",
   "version": "3.12.4"
  }
 },
 "nbformat": 4,
 "nbformat_minor": 2
}
